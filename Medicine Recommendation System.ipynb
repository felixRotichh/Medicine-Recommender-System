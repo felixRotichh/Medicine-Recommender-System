{
 "cells": [
  {
   "cell_type": "code",
   "execution_count": 39,
   "id": "19c07d9f",
   "metadata": {},
   "outputs": [],
   "source": [
    "import pandas as pd\n",
    "import numpy as np"
   ]
  },
  {
   "cell_type": "code",
   "execution_count": 40,
   "id": "8439b107",
   "metadata": {},
   "outputs": [],
   "source": [
    "data = pd.read_csv(\"medicine.csv\")"
   ]
  },
  {
   "cell_type": "code",
   "execution_count": 41,
   "id": "6b8a4a3f",
   "metadata": {},
   "outputs": [
    {
     "data": {
      "text/html": [
       "<div>\n",
       "<style scoped>\n",
       "    .dataframe tbody tr th:only-of-type {\n",
       "        vertical-align: middle;\n",
       "    }\n",
       "\n",
       "    .dataframe tbody tr th {\n",
       "        vertical-align: top;\n",
       "    }\n",
       "\n",
       "    .dataframe thead th {\n",
       "        text-align: right;\n",
       "    }\n",
       "</style>\n",
       "<table border=\"1\" class=\"dataframe\">\n",
       "  <thead>\n",
       "    <tr style=\"text-align: right;\">\n",
       "      <th></th>\n",
       "      <th>index</th>\n",
       "      <th>Drug_Name</th>\n",
       "      <th>Reason</th>\n",
       "      <th>Description</th>\n",
       "    </tr>\n",
       "  </thead>\n",
       "  <tbody>\n",
       "    <tr>\n",
       "      <th>0</th>\n",
       "      <td>1</td>\n",
       "      <td>A CN Gel(Topical) 20gmA CN Soap 75gm</td>\n",
       "      <td>Acne</td>\n",
       "      <td>Mild to moderate acne (spots)</td>\n",
       "    </tr>\n",
       "    <tr>\n",
       "      <th>1</th>\n",
       "      <td>2</td>\n",
       "      <td>A Ret 0.05% Gel 20gmA Ret 0.1% Gel 20gmA Ret 0...</td>\n",
       "      <td>Acne</td>\n",
       "      <td>A RET 0.025% is a prescription medicine that i...</td>\n",
       "    </tr>\n",
       "    <tr>\n",
       "      <th>2</th>\n",
       "      <td>3</td>\n",
       "      <td>ACGEL CL NANO Gel 15gm</td>\n",
       "      <td>Acne</td>\n",
       "      <td>It is used to treat acne vulgaris in people 12...</td>\n",
       "    </tr>\n",
       "    <tr>\n",
       "      <th>3</th>\n",
       "      <td>4</td>\n",
       "      <td>ACGEL NANO Gel 15gm</td>\n",
       "      <td>Acne</td>\n",
       "      <td>It is used to treat acne vulgaris in people 12...</td>\n",
       "    </tr>\n",
       "    <tr>\n",
       "      <th>4</th>\n",
       "      <td>5</td>\n",
       "      <td>Acleen 1% Lotion 25ml</td>\n",
       "      <td>Acne</td>\n",
       "      <td>treat the most severe form of acne (nodular ac...</td>\n",
       "    </tr>\n",
       "  </tbody>\n",
       "</table>\n",
       "</div>"
      ],
      "text/plain": [
       "   index                                          Drug_Name Reason  \\\n",
       "0      1               A CN Gel(Topical) 20gmA CN Soap 75gm   Acne   \n",
       "1      2  A Ret 0.05% Gel 20gmA Ret 0.1% Gel 20gmA Ret 0...   Acne   \n",
       "2      3                             ACGEL CL NANO Gel 15gm   Acne   \n",
       "3      4                                ACGEL NANO Gel 15gm   Acne   \n",
       "4      5                              Acleen 1% Lotion 25ml   Acne   \n",
       "\n",
       "                                         Description  \n",
       "0                      Mild to moderate acne (spots)  \n",
       "1  A RET 0.025% is a prescription medicine that i...  \n",
       "2  It is used to treat acne vulgaris in people 12...  \n",
       "3  It is used to treat acne vulgaris in people 12...  \n",
       "4  treat the most severe form of acne (nodular ac...  "
      ]
     },
     "execution_count": 41,
     "metadata": {},
     "output_type": "execute_result"
    }
   ],
   "source": [
    "data.head()"
   ]
  },
  {
   "cell_type": "code",
   "execution_count": 42,
   "id": "362edb29",
   "metadata": {},
   "outputs": [
    {
     "data": {
      "text/plain": [
       "(9720, 4)"
      ]
     },
     "execution_count": 42,
     "metadata": {},
     "output_type": "execute_result"
    }
   ],
   "source": [
    "data.shape"
   ]
  },
  {
   "cell_type": "code",
   "execution_count": 43,
   "id": "be0d014e",
   "metadata": {},
   "outputs": [
    {
     "data": {
      "text/plain": [
       "index          0\n",
       "Drug_Name      0\n",
       "Reason         0\n",
       "Description    0\n",
       "dtype: int64"
      ]
     },
     "execution_count": 43,
     "metadata": {},
     "output_type": "execute_result"
    }
   ],
   "source": [
    "data.isnull().sum()"
   ]
  },
  {
   "cell_type": "code",
   "execution_count": 44,
   "id": "587568cd",
   "metadata": {},
   "outputs": [
    {
     "data": {
      "text/plain": [
       "0"
      ]
     },
     "execution_count": 44,
     "metadata": {},
     "output_type": "execute_result"
    }
   ],
   "source": [
    "data.duplicated().sum()"
   ]
  },
  {
   "cell_type": "code",
   "execution_count": 45,
   "id": "b699ef21",
   "metadata": {},
   "outputs": [
    {
     "data": {
      "text/html": [
       "<div>\n",
       "<style scoped>\n",
       "    .dataframe tbody tr th:only-of-type {\n",
       "        vertical-align: middle;\n",
       "    }\n",
       "\n",
       "    .dataframe tbody tr th {\n",
       "        vertical-align: top;\n",
       "    }\n",
       "\n",
       "    .dataframe thead th {\n",
       "        text-align: right;\n",
       "    }\n",
       "</style>\n",
       "<table border=\"1\" class=\"dataframe\">\n",
       "  <thead>\n",
       "    <tr style=\"text-align: right;\">\n",
       "      <th></th>\n",
       "      <th>index</th>\n",
       "    </tr>\n",
       "  </thead>\n",
       "  <tbody>\n",
       "    <tr>\n",
       "      <th>count</th>\n",
       "      <td>9720.000000</td>\n",
       "    </tr>\n",
       "    <tr>\n",
       "      <th>mean</th>\n",
       "      <td>4860.500000</td>\n",
       "    </tr>\n",
       "    <tr>\n",
       "      <th>std</th>\n",
       "      <td>2806.066642</td>\n",
       "    </tr>\n",
       "    <tr>\n",
       "      <th>min</th>\n",
       "      <td>1.000000</td>\n",
       "    </tr>\n",
       "    <tr>\n",
       "      <th>25%</th>\n",
       "      <td>2430.750000</td>\n",
       "    </tr>\n",
       "    <tr>\n",
       "      <th>50%</th>\n",
       "      <td>4860.500000</td>\n",
       "    </tr>\n",
       "    <tr>\n",
       "      <th>75%</th>\n",
       "      <td>7290.250000</td>\n",
       "    </tr>\n",
       "    <tr>\n",
       "      <th>max</th>\n",
       "      <td>9720.000000</td>\n",
       "    </tr>\n",
       "  </tbody>\n",
       "</table>\n",
       "</div>"
      ],
      "text/plain": [
       "             index\n",
       "count  9720.000000\n",
       "mean   4860.500000\n",
       "std    2806.066642\n",
       "min       1.000000\n",
       "25%    2430.750000\n",
       "50%    4860.500000\n",
       "75%    7290.250000\n",
       "max    9720.000000"
      ]
     },
     "execution_count": 45,
     "metadata": {},
     "output_type": "execute_result"
    }
   ],
   "source": [
    "data.describe()"
   ]
  },
  {
   "cell_type": "code",
   "execution_count": 46,
   "id": "5580544e",
   "metadata": {},
   "outputs": [
    {
     "name": "stdout",
     "output_type": "stream",
     "text": [
      "<class 'pandas.core.frame.DataFrame'>\n",
      "RangeIndex: 9720 entries, 0 to 9719\n",
      "Data columns (total 4 columns):\n",
      " #   Column       Non-Null Count  Dtype \n",
      "---  ------       --------------  ----- \n",
      " 0   index        9720 non-null   int64 \n",
      " 1   Drug_Name    9720 non-null   object\n",
      " 2   Reason       9720 non-null   object\n",
      " 3   Description  9720 non-null   object\n",
      "dtypes: int64(1), object(3)\n",
      "memory usage: 303.9+ KB\n"
     ]
    }
   ],
   "source": [
    "data.info()"
   ]
  },
  {
   "cell_type": "code",
   "execution_count": 47,
   "id": "62855f08",
   "metadata": {},
   "outputs": [],
   "source": [
    "data[\"Description\"] = data[\"Description\"].apply(lambda x: x.split())\n",
    "data[\"Reason\"] = data[\"Reason\"].apply(lambda x: x.split())"
   ]
  },
  {
   "cell_type": "code",
   "execution_count": 49,
   "id": "823d7aca",
   "metadata": {},
   "outputs": [
    {
     "data": {
      "text/html": [
       "<div>\n",
       "<style scoped>\n",
       "    .dataframe tbody tr th:only-of-type {\n",
       "        vertical-align: middle;\n",
       "    }\n",
       "\n",
       "    .dataframe tbody tr th {\n",
       "        vertical-align: top;\n",
       "    }\n",
       "\n",
       "    .dataframe thead th {\n",
       "        text-align: right;\n",
       "    }\n",
       "</style>\n",
       "<table border=\"1\" class=\"dataframe\">\n",
       "  <thead>\n",
       "    <tr style=\"text-align: right;\">\n",
       "      <th></th>\n",
       "      <th>index</th>\n",
       "      <th>Drug_Name</th>\n",
       "      <th>Reason</th>\n",
       "      <th>Description</th>\n",
       "    </tr>\n",
       "  </thead>\n",
       "  <tbody>\n",
       "    <tr>\n",
       "      <th>0</th>\n",
       "      <td>1</td>\n",
       "      <td>A CN Gel(Topical) 20gmA CN Soap 75gm</td>\n",
       "      <td>[Acne]</td>\n",
       "      <td>[Mild, to, moderate, acne, (spots)]</td>\n",
       "    </tr>\n",
       "    <tr>\n",
       "      <th>1</th>\n",
       "      <td>2</td>\n",
       "      <td>A Ret 0.05% Gel 20gmA Ret 0.1% Gel 20gmA Ret 0...</td>\n",
       "      <td>[Acne]</td>\n",
       "      <td>[A, RET, 0.025%, is, a, prescription, medicine...</td>\n",
       "    </tr>\n",
       "    <tr>\n",
       "      <th>2</th>\n",
       "      <td>3</td>\n",
       "      <td>ACGEL CL NANO Gel 15gm</td>\n",
       "      <td>[Acne]</td>\n",
       "      <td>[It, is, used, to, treat, acne, vulgaris, in, ...</td>\n",
       "    </tr>\n",
       "    <tr>\n",
       "      <th>3</th>\n",
       "      <td>4</td>\n",
       "      <td>ACGEL NANO Gel 15gm</td>\n",
       "      <td>[Acne]</td>\n",
       "      <td>[It, is, used, to, treat, acne, vulgaris, in, ...</td>\n",
       "    </tr>\n",
       "    <tr>\n",
       "      <th>4</th>\n",
       "      <td>5</td>\n",
       "      <td>Acleen 1% Lotion 25ml</td>\n",
       "      <td>[Acne]</td>\n",
       "      <td>[treat, the, most, severe, form, of, acne, (no...</td>\n",
       "    </tr>\n",
       "    <tr>\n",
       "      <th>...</th>\n",
       "      <td>...</td>\n",
       "      <td>...</td>\n",
       "      <td>...</td>\n",
       "      <td>...</td>\n",
       "    </tr>\n",
       "    <tr>\n",
       "      <th>9715</th>\n",
       "      <td>9716</td>\n",
       "      <td>T Muce Ointment 5gm</td>\n",
       "      <td>[Wound]</td>\n",
       "      <td>[used, for, treating, warts]</td>\n",
       "    </tr>\n",
       "    <tr>\n",
       "      <th>9716</th>\n",
       "      <td>9717</td>\n",
       "      <td>Wokadine 10% Solution 100mlWokadine Solution 5...</td>\n",
       "      <td>[Wound]</td>\n",
       "      <td>[used, to, soften, the, skin, cells]</td>\n",
       "    </tr>\n",
       "    <tr>\n",
       "      <th>9717</th>\n",
       "      <td>9718</td>\n",
       "      <td>Wokadine M Onit 10gm</td>\n",
       "      <td>[Wound]</td>\n",
       "      <td>[used, for, scars]</td>\n",
       "    </tr>\n",
       "    <tr>\n",
       "      <th>9718</th>\n",
       "      <td>9719</td>\n",
       "      <td>Wound Fix Solution 100ml</td>\n",
       "      <td>[Wound]</td>\n",
       "      <td>[used, for, wounds]</td>\n",
       "    </tr>\n",
       "    <tr>\n",
       "      <th>9719</th>\n",
       "      <td>9720</td>\n",
       "      <td>Wounsol Ointment 15gm</td>\n",
       "      <td>[Wound]</td>\n",
       "      <td>[used, to, treat, and, remove, raised, warts, ...</td>\n",
       "    </tr>\n",
       "  </tbody>\n",
       "</table>\n",
       "<p>9720 rows × 4 columns</p>\n",
       "</div>"
      ],
      "text/plain": [
       "      index                                          Drug_Name   Reason  \\\n",
       "0         1               A CN Gel(Topical) 20gmA CN Soap 75gm   [Acne]   \n",
       "1         2  A Ret 0.05% Gel 20gmA Ret 0.1% Gel 20gmA Ret 0...   [Acne]   \n",
       "2         3                             ACGEL CL NANO Gel 15gm   [Acne]   \n",
       "3         4                                ACGEL NANO Gel 15gm   [Acne]   \n",
       "4         5                              Acleen 1% Lotion 25ml   [Acne]   \n",
       "...     ...                                                ...      ...   \n",
       "9715   9716                                T Muce Ointment 5gm  [Wound]   \n",
       "9716   9717  Wokadine 10% Solution 100mlWokadine Solution 5...  [Wound]   \n",
       "9717   9718                               Wokadine M Onit 10gm  [Wound]   \n",
       "9718   9719                           Wound Fix Solution 100ml  [Wound]   \n",
       "9719   9720                              Wounsol Ointment 15gm  [Wound]   \n",
       "\n",
       "                                            Description  \n",
       "0                   [Mild, to, moderate, acne, (spots)]  \n",
       "1     [A, RET, 0.025%, is, a, prescription, medicine...  \n",
       "2     [It, is, used, to, treat, acne, vulgaris, in, ...  \n",
       "3     [It, is, used, to, treat, acne, vulgaris, in, ...  \n",
       "4     [treat, the, most, severe, form, of, acne, (no...  \n",
       "...                                                 ...  \n",
       "9715                       [used, for, treating, warts]  \n",
       "9716               [used, to, soften, the, skin, cells]  \n",
       "9717                                 [used, for, scars]  \n",
       "9718                                [used, for, wounds]  \n",
       "9719  [used, to, treat, and, remove, raised, warts, ...  \n",
       "\n",
       "[9720 rows x 4 columns]"
      ]
     },
     "execution_count": 49,
     "metadata": {},
     "output_type": "execute_result"
    }
   ],
   "source": [
    "data"
   ]
  },
  {
   "cell_type": "code",
   "execution_count": 50,
   "id": "8b14532b",
   "metadata": {},
   "outputs": [],
   "source": [
    "data[\"Description\"] = data[\"Description\"].apply(lambda x: [i.replace(\" \",\"\") for i in x])"
   ]
  },
  {
   "cell_type": "code",
   "execution_count": 53,
   "id": "fe0d6d4d",
   "metadata": {},
   "outputs": [],
   "source": [
    "data[\"tags\"] = data[\"Description\"]+data[\"Reason\"]"
   ]
  },
  {
   "cell_type": "code",
   "execution_count": 54,
   "id": "9cf464c3",
   "metadata": {},
   "outputs": [
    {
     "data": {
      "text/html": [
       "<div>\n",
       "<style scoped>\n",
       "    .dataframe tbody tr th:only-of-type {\n",
       "        vertical-align: middle;\n",
       "    }\n",
       "\n",
       "    .dataframe tbody tr th {\n",
       "        vertical-align: top;\n",
       "    }\n",
       "\n",
       "    .dataframe thead th {\n",
       "        text-align: right;\n",
       "    }\n",
       "</style>\n",
       "<table border=\"1\" class=\"dataframe\">\n",
       "  <thead>\n",
       "    <tr style=\"text-align: right;\">\n",
       "      <th></th>\n",
       "      <th>index</th>\n",
       "      <th>Drug_Name</th>\n",
       "      <th>Reason</th>\n",
       "      <th>Description</th>\n",
       "      <th>tags</th>\n",
       "    </tr>\n",
       "  </thead>\n",
       "  <tbody>\n",
       "    <tr>\n",
       "      <th>0</th>\n",
       "      <td>1</td>\n",
       "      <td>A CN Gel(Topical) 20gmA CN Soap 75gm</td>\n",
       "      <td>[Acne]</td>\n",
       "      <td>[Mild, to, moderate, acne, (spots)]</td>\n",
       "      <td>[Mild, to, moderate, acne, (spots), Acne]</td>\n",
       "    </tr>\n",
       "    <tr>\n",
       "      <th>1</th>\n",
       "      <td>2</td>\n",
       "      <td>A Ret 0.05% Gel 20gmA Ret 0.1% Gel 20gmA Ret 0...</td>\n",
       "      <td>[Acne]</td>\n",
       "      <td>[A, RET, 0.025%, is, a, prescription, medicine...</td>\n",
       "      <td>[A, RET, 0.025%, is, a, prescription, medicine...</td>\n",
       "    </tr>\n",
       "    <tr>\n",
       "      <th>2</th>\n",
       "      <td>3</td>\n",
       "      <td>ACGEL CL NANO Gel 15gm</td>\n",
       "      <td>[Acne]</td>\n",
       "      <td>[It, is, used, to, treat, acne, vulgaris, in, ...</td>\n",
       "      <td>[It, is, used, to, treat, acne, vulgaris, in, ...</td>\n",
       "    </tr>\n",
       "    <tr>\n",
       "      <th>3</th>\n",
       "      <td>4</td>\n",
       "      <td>ACGEL NANO Gel 15gm</td>\n",
       "      <td>[Acne]</td>\n",
       "      <td>[It, is, used, to, treat, acne, vulgaris, in, ...</td>\n",
       "      <td>[It, is, used, to, treat, acne, vulgaris, in, ...</td>\n",
       "    </tr>\n",
       "    <tr>\n",
       "      <th>4</th>\n",
       "      <td>5</td>\n",
       "      <td>Acleen 1% Lotion 25ml</td>\n",
       "      <td>[Acne]</td>\n",
       "      <td>[treat, the, most, severe, form, of, acne, (no...</td>\n",
       "      <td>[treat, the, most, severe, form, of, acne, (no...</td>\n",
       "    </tr>\n",
       "  </tbody>\n",
       "</table>\n",
       "</div>"
      ],
      "text/plain": [
       "   index                                          Drug_Name  Reason  \\\n",
       "0      1               A CN Gel(Topical) 20gmA CN Soap 75gm  [Acne]   \n",
       "1      2  A Ret 0.05% Gel 20gmA Ret 0.1% Gel 20gmA Ret 0...  [Acne]   \n",
       "2      3                             ACGEL CL NANO Gel 15gm  [Acne]   \n",
       "3      4                                ACGEL NANO Gel 15gm  [Acne]   \n",
       "4      5                              Acleen 1% Lotion 25ml  [Acne]   \n",
       "\n",
       "                                         Description  \\\n",
       "0                [Mild, to, moderate, acne, (spots)]   \n",
       "1  [A, RET, 0.025%, is, a, prescription, medicine...   \n",
       "2  [It, is, used, to, treat, acne, vulgaris, in, ...   \n",
       "3  [It, is, used, to, treat, acne, vulgaris, in, ...   \n",
       "4  [treat, the, most, severe, form, of, acne, (no...   \n",
       "\n",
       "                                                tags  \n",
       "0          [Mild, to, moderate, acne, (spots), Acne]  \n",
       "1  [A, RET, 0.025%, is, a, prescription, medicine...  \n",
       "2  [It, is, used, to, treat, acne, vulgaris, in, ...  \n",
       "3  [It, is, used, to, treat, acne, vulgaris, in, ...  \n",
       "4  [treat, the, most, severe, form, of, acne, (no...  "
      ]
     },
     "execution_count": 54,
     "metadata": {},
     "output_type": "execute_result"
    }
   ],
   "source": [
    "data.head()"
   ]
  },
  {
   "cell_type": "code",
   "execution_count": 58,
   "id": "2b656c5a",
   "metadata": {},
   "outputs": [],
   "source": [
    "new_data = data[[\"index\",\"Drug_Name\", \"tags\"]]"
   ]
  },
  {
   "cell_type": "code",
   "execution_count": 59,
   "id": "b8db7ad5",
   "metadata": {},
   "outputs": [
    {
     "data": {
      "text/html": [
       "<div>\n",
       "<style scoped>\n",
       "    .dataframe tbody tr th:only-of-type {\n",
       "        vertical-align: middle;\n",
       "    }\n",
       "\n",
       "    .dataframe tbody tr th {\n",
       "        vertical-align: top;\n",
       "    }\n",
       "\n",
       "    .dataframe thead th {\n",
       "        text-align: right;\n",
       "    }\n",
       "</style>\n",
       "<table border=\"1\" class=\"dataframe\">\n",
       "  <thead>\n",
       "    <tr style=\"text-align: right;\">\n",
       "      <th></th>\n",
       "      <th>index</th>\n",
       "      <th>Drug_Name</th>\n",
       "      <th>tags</th>\n",
       "    </tr>\n",
       "  </thead>\n",
       "  <tbody>\n",
       "    <tr>\n",
       "      <th>0</th>\n",
       "      <td>1</td>\n",
       "      <td>A CN Gel(Topical) 20gmA CN Soap 75gm</td>\n",
       "      <td>[Mild, to, moderate, acne, (spots), Acne]</td>\n",
       "    </tr>\n",
       "    <tr>\n",
       "      <th>1</th>\n",
       "      <td>2</td>\n",
       "      <td>A Ret 0.05% Gel 20gmA Ret 0.1% Gel 20gmA Ret 0...</td>\n",
       "      <td>[A, RET, 0.025%, is, a, prescription, medicine...</td>\n",
       "    </tr>\n",
       "    <tr>\n",
       "      <th>2</th>\n",
       "      <td>3</td>\n",
       "      <td>ACGEL CL NANO Gel 15gm</td>\n",
       "      <td>[It, is, used, to, treat, acne, vulgaris, in, ...</td>\n",
       "    </tr>\n",
       "    <tr>\n",
       "      <th>3</th>\n",
       "      <td>4</td>\n",
       "      <td>ACGEL NANO Gel 15gm</td>\n",
       "      <td>[It, is, used, to, treat, acne, vulgaris, in, ...</td>\n",
       "    </tr>\n",
       "    <tr>\n",
       "      <th>4</th>\n",
       "      <td>5</td>\n",
       "      <td>Acleen 1% Lotion 25ml</td>\n",
       "      <td>[treat, the, most, severe, form, of, acne, (no...</td>\n",
       "    </tr>\n",
       "  </tbody>\n",
       "</table>\n",
       "</div>"
      ],
      "text/plain": [
       "   index                                          Drug_Name  \\\n",
       "0      1               A CN Gel(Topical) 20gmA CN Soap 75gm   \n",
       "1      2  A Ret 0.05% Gel 20gmA Ret 0.1% Gel 20gmA Ret 0...   \n",
       "2      3                             ACGEL CL NANO Gel 15gm   \n",
       "3      4                                ACGEL NANO Gel 15gm   \n",
       "4      5                              Acleen 1% Lotion 25ml   \n",
       "\n",
       "                                                tags  \n",
       "0          [Mild, to, moderate, acne, (spots), Acne]  \n",
       "1  [A, RET, 0.025%, is, a, prescription, medicine...  \n",
       "2  [It, is, used, to, treat, acne, vulgaris, in, ...  \n",
       "3  [It, is, used, to, treat, acne, vulgaris, in, ...  \n",
       "4  [treat, the, most, severe, form, of, acne, (no...  "
      ]
     },
     "execution_count": 59,
     "metadata": {},
     "output_type": "execute_result"
    }
   ],
   "source": [
    "new_data.head()"
   ]
  },
  {
   "cell_type": "code",
   "execution_count": 60,
   "id": "4f18183f",
   "metadata": {},
   "outputs": [
    {
     "name": "stderr",
     "output_type": "stream",
     "text": [
      "C:\\Users\\Hp\\AppData\\Local\\Temp\\ipykernel_4728\\1379162417.py:1: SettingWithCopyWarning: \n",
      "A value is trying to be set on a copy of a slice from a DataFrame.\n",
      "Try using .loc[row_indexer,col_indexer] = value instead\n",
      "\n",
      "See the caveats in the documentation: https://pandas.pydata.org/pandas-docs/stable/user_guide/indexing.html#returning-a-view-versus-a-copy\n",
      "  new_data[\"tags\"] = new_data[\"tags\"].apply(lambda x : \" \".join(x))\n"
     ]
    }
   ],
   "source": [
    "new_data[\"tags\"] = new_data[\"tags\"].apply(lambda x : \" \".join(x))"
   ]
  },
  {
   "cell_type": "code",
   "execution_count": 69,
   "id": "95a12d8c",
   "metadata": {},
   "outputs": [
    {
     "name": "stderr",
     "output_type": "stream",
     "text": [
      "C:\\Users\\Hp\\AppData\\Local\\Temp\\ipykernel_4728\\805274915.py:1: SettingWithCopyWarning: \n",
      "A value is trying to be set on a copy of a slice from a DataFrame.\n",
      "Try using .loc[row_indexer,col_indexer] = value instead\n",
      "\n",
      "See the caveats in the documentation: https://pandas.pydata.org/pandas-docs/stable/user_guide/indexing.html#returning-a-view-versus-a-copy\n",
      "  new_data['tags'] = new_data['tags'].apply(lambda x : x.lower())\n"
     ]
    }
   ],
   "source": [
    "new_data['tags'] = new_data['tags'].apply(lambda x : x.lower())"
   ]
  },
  {
   "cell_type": "code",
   "execution_count": 64,
   "id": "d0405e18",
   "metadata": {},
   "outputs": [],
   "source": [
    "import nltk\n",
    "from nltk.stem.porter import PorterStemmer \n",
    "from sklearn.feature_extraction.text import CountVectorizer"
   ]
  },
  {
   "cell_type": "code",
   "execution_count": 70,
   "id": "1afb15f3",
   "metadata": {},
   "outputs": [],
   "source": [
    "cv = CountVectorizer(stop_words=\"english\", max_features=5000)\n",
    "ps = PorterStemmer()"
   ]
  },
  {
   "cell_type": "code",
   "execution_count": 72,
   "id": "888f4203",
   "metadata": {},
   "outputs": [],
   "source": [
    "def stem(text):\n",
    "    y = []\n",
    "    for i in text.split():\n",
    "        y.append(ps.stem(i))\n",
    "    return \" \".join(y)"
   ]
  },
  {
   "cell_type": "code",
   "execution_count": 74,
   "id": "62bbfcaa",
   "metadata": {},
   "outputs": [
    {
     "name": "stderr",
     "output_type": "stream",
     "text": [
      "C:\\Users\\Hp\\AppData\\Local\\Temp\\ipykernel_4728\\2143566048.py:1: SettingWithCopyWarning: \n",
      "A value is trying to be set on a copy of a slice from a DataFrame.\n",
      "Try using .loc[row_indexer,col_indexer] = value instead\n",
      "\n",
      "See the caveats in the documentation: https://pandas.pydata.org/pandas-docs/stable/user_guide/indexing.html#returning-a-view-versus-a-copy\n",
      "  new_data[\"tags\"] = new_data[\"tags\"].apply(stem)\n"
     ]
    }
   ],
   "source": [
    "new_data[\"tags\"] = new_data[\"tags\"].apply(stem)"
   ]
  },
  {
   "cell_type": "code",
   "execution_count": 81,
   "id": "848ca023",
   "metadata": {},
   "outputs": [],
   "source": [
    "vectors = cv.fit_transform(new_data[\"tags\"]).toarray()"
   ]
  },
  {
   "cell_type": "code",
   "execution_count": 82,
   "id": "09f1a44b",
   "metadata": {},
   "outputs": [
    {
     "data": {
      "text/plain": [
       "(9720, 805)"
      ]
     },
     "execution_count": 82,
     "metadata": {},
     "output_type": "execute_result"
    }
   ],
   "source": [
    "vectors.shape"
   ]
  },
  {
   "cell_type": "code",
   "execution_count": 83,
   "id": "9159ee44",
   "metadata": {},
   "outputs": [
    {
     "data": {
      "text/plain": [
       "<bound method CountVectorizer.get_feature_names_out of CountVectorizer(max_features=5000, stop_words='english')>"
      ]
     },
     "execution_count": 83,
     "metadata": {},
     "output_type": "execute_result"
    }
   ],
   "source": [
    "cv.get_feature_names_out"
   ]
  },
  {
   "cell_type": "code",
   "execution_count": 84,
   "id": "2e1e8198",
   "metadata": {},
   "outputs": [],
   "source": [
    "from sklearn.metrics.pairwise import cosine_similarity"
   ]
  },
  {
   "cell_type": "code",
   "execution_count": 87,
   "id": "78d94e24",
   "metadata": {},
   "outputs": [],
   "source": [
    "similarity = cosine_similarity(vectors)"
   ]
  },
  {
   "cell_type": "code",
   "execution_count": 88,
   "id": "34582358",
   "metadata": {},
   "outputs": [
    {
     "data": {
      "text/plain": [
       "array([0.43643578, 0.25660012, 1.        , ..., 0.11111111, 0.0860663 ,\n",
       "       0.0993808 ])"
      ]
     },
     "execution_count": 88,
     "metadata": {},
     "output_type": "execute_result"
    }
   ],
   "source": [
    "similarity[2]"
   ]
  },
  {
   "cell_type": "code",
   "execution_count": 89,
   "id": "6b7d3199",
   "metadata": {},
   "outputs": [],
   "source": [
    "def recommendation(medicine):\n",
    "    medicine_index = new_data[new_data['Drug_Name'] == medicine].index[0]\n",
    "    distance = similarity[medicine_index]\n",
    "    medicine_list = sorted(list(enumerate(distance)), reverse=True, key = lambda x : x[1])[1:6]\n",
    "    for i in medicine_list:\n",
    "        print(new_data.iloc[i[0]].Drug_Name)"
   ]
  },
  {
   "cell_type": "code",
   "execution_count": 91,
   "id": "15a6281d",
   "metadata": {},
   "outputs": [
    {
     "name": "stdout",
     "output_type": "stream",
     "text": [
      "Acnedap Gel 15gm\n",
      "Acnetoin 20mg Capsule 10'SAcnetoin Gel 15gm\n",
      "Acnin Pimple Care Face Pack 50gm\n",
      "Adapnil Gel 15gm\n",
      "Alene Gel 15gm\n"
     ]
    }
   ],
   "source": [
    "recommendation(\"A CN Gel(Topical) 20gmA CN Soap 75gm\")"
   ]
  },
  {
   "cell_type": "code",
   "execution_count": 92,
   "id": "13efdc51",
   "metadata": {},
   "outputs": [],
   "source": [
    "import pickle\n",
    "pickle.dump(new_data.to_dict(), open(\"medicine_dict.pkl\", \"wb\"))\n",
    "pickle.dump(similarity, open(\"similarity.pkl\", \"wb\"))"
   ]
  },
  {
   "cell_type": "code",
   "execution_count": null,
   "id": "281991c8",
   "metadata": {},
   "outputs": [],
   "source": []
  }
 ],
 "metadata": {
  "kernelspec": {
   "display_name": "Python 3 (ipykernel)",
   "language": "python",
   "name": "python3"
  },
  "language_info": {
   "codemirror_mode": {
    "name": "ipython",
    "version": 3
   },
   "file_extension": ".py",
   "mimetype": "text/x-python",
   "name": "python",
   "nbconvert_exporter": "python",
   "pygments_lexer": "ipython3",
   "version": "3.11.5"
  }
 },
 "nbformat": 4,
 "nbformat_minor": 5
}
